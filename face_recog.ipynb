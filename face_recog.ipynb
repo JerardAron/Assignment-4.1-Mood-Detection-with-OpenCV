{
 "cells": [
  {
   "cell_type": "markdown",
   "metadata": {},
   "source": [
    "# Face Recognizer"
   ]
  },
  {
   "cell_type": "code",
   "execution_count": 2,
   "metadata": {},
   "outputs": [],
   "source": [
    "import cv2\n",
    "import os\n",
    "import numpy as np"
   ]
  },
  {
   "cell_type": "code",
   "execution_count": 3,
   "metadata": {},
   "outputs": [],
   "source": [
    "\n",
    "reference_images_folder = 'C:/Users/User/Downloads/Mood detection_LUNGSOD/img_recog/face_recog/Aron_face'\n",
    "\n",
    "reference_images = os.listdir(reference_images_folder)"
   ]
  },
  {
   "cell_type": "code",
   "execution_count": 27,
   "metadata": {},
   "outputs": [],
   "source": [
    "\n",
    "def preprocess_image(image_path, target_size=(300, 300)):\n",
    "    # Read the image from the specified path\n",
    "    image = cv2.imread(image_path)\n",
    "    # Resize the image to the target size\n",
    "    image = cv2.resize(image, target_size)\n",
    "    # Convert the image to grayscale\n",
    "    gray = cv2.cvtColor(image, cv2.COLOR_BGR2GRAY)\n",
    "    return gray\n",
    "\n",
    "# Initialize a list to store preprocessed images\n",
    "preprocessed_images = []\n",
    "\n",
    "# Iterate over each image name in the reference_images list\n",
    "for image_name in reference_images:\n",
    "    # Form the path to the image\n",
    "    image_path = os.path.join(reference_images_folder, image_name)\n",
    "    # Preprocess the image\n",
    "    preprocessed_image = preprocess_image(image_path)\n",
    "    # Append the preprocessed image to the preprocessed_images list\n",
    "    preprocessed_images.append(preprocessed_image)\n"
   ]
  },
  {
   "cell_type": "code",
   "execution_count": 28,
   "metadata": {},
   "outputs": [],
   "source": [
    "face_recognizer = cv2.face.LBPHFaceRecognizer_create()\n",
    "\n",
    "# Assign label 0 to all images (We are using alex'folder here which contains only images of alex)\n",
    "labels = np.zeros(len(pre_processed_images), dtype=int)\n",
    "\n",
    "# Train the face recognizer\n",
    "face_recognizer.train(pre_processed_images, labels)"
   ]
  },
  {
   "cell_type": "code",
   "execution_count": 29,
   "metadata": {},
   "outputs": [],
   "source": [
    "# Step 4: Save the Model\n",
    "face_recognizer.save('C:/Users/User/Downloads/Mood detection_LUNGSOD/img_recog/aronface_model.xml')"
   ]
  },
  {
   "cell_type": "code",
   "execution_count": 22,
   "metadata": {},
   "outputs": [],
   "source": [
    "def test_face_recognition(test_image_path, face_recognizer, threshold=40):\n",
    "    # Preprocess the test image\n",
    "    test_image = preprocess_image(test_image_path)\n",
    "\n",
    "    # Predict the label and match quality using the face recognizer\n",
    "    label, match_quality = face_recognizer.predict(test_image)\n",
    "\n",
    "    # Determine the result based on the match quality and threshold\n",
    "    if match_quality < threshold:\n",
    "        result = \"Aron's Face\"\n",
    "    else:\n",
    "        result = \"Unknown\"\n",
    "\n",
    "    return label, match_quality, result\n"
   ]
  },
  {
   "cell_type": "code",
   "execution_count": 30,
   "metadata": {},
   "outputs": [
    {
     "name": "stdout",
     "output_type": "stream",
     "text": [
      "Predicted Label: 0, Confidence: 0.0, Result: Aron's Face\n",
      "Predicted Label: 0, Confidence: 81.71340241307041, Result: Unknown\n"
     ]
    }
   ],
   "source": [
    "test_image_path = 'C:/Users/User/Downloads/Mood detection_LUNGSOD/img_recog/face_recog/validation/aron/WIN_20240413_09_54_07_Pro.jpg'\n",
    "label, confidence, result = test_face_recognition(test_image_path, face_recognizer)\n",
    "print(f\"Predicted Label: {label}, Confidence: {confidence}, Result: {result}\")\n",
    "test_image_path = 'C:/Users/User/Downloads/Mood detection_LUNGSOD/img_recog/face_recog/validation/unknown/1 (119).png'\n",
    "label, confidence, result = test_face_recognition(test_image_path, face_recognizer)\n",
    "print(f\"Predicted Label: {label}, Confidence: {confidence}, Result: {result}\")"
   ]
  }
 ],
 "metadata": {
  "kernelspec": {
   "display_name": "base",
   "language": "python",
   "name": "python3"
  },
  "language_info": {
   "codemirror_mode": {
    "name": "ipython",
    "version": 3
   },
   "file_extension": ".py",
   "mimetype": "text/x-python",
   "name": "python",
   "nbconvert_exporter": "python",
   "pygments_lexer": "ipython3",
   "version": "3.11.7"
  }
 },
 "nbformat": 4,
 "nbformat_minor": 2
}
