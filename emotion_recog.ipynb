{
 "cells": [
  {
   "cell_type": "code",
   "execution_count": 1,
   "metadata": {},
   "outputs": [],
   "source": [
    "import cv2\n",
    "import os\n",
    "import numpy as np"
   ]
  },
  {
   "cell_type": "code",
   "execution_count": 13,
   "metadata": {},
   "outputs": [],
   "source": [
    "# Step 1: Data Collection \n",
    "# There three differnt folders inside emotions_Recog with angry, happy and sad labels all collected through a webcam \n",
    "\n",
    "#Path to folder containing reference images\n",
    "emotions_folder = 'C:/Users/User/Downloads/img_recog/emotions_recog/train'\n"
   ]
  },
  {
   "cell_type": "code",
   "execution_count": 16,
   "metadata": {},
   "outputs": [],
   "source": [
    "# Step 2: Pre-processing\n",
    "# Resize all the images and change color to gray \n",
    "\n",
    "def pre_process_image(image_path, target_size=(100, 100)):\n",
    "    image = cv2.imread(image_path)\n",
    "    image = cv2.resize(image, target_size)\n",
    "    gray = cv2.cvtColor(image, cv2.COLOR_BGR2GRAY)\n",
    "    return gray\n",
    "\n",
    "\n",
    "images = []\n",
    "labels = []\n",
    "\n",
    "for emotion_label in os.listdir(emotions_folder):\n",
    "    emotion_folder = os.path.join(emotions_folder, emotion_label)\n",
    "    \n",
    "    # Iterate through images in the emotion folder\n",
    "    for image_name in os.listdir(emotion_folder):\n",
    "        image_path = os.path.join(emotion_folder, image_name)\n",
    "        pre_processed_image = pre_process_image(image_path)\n",
    "        images.append(pre_processed_image)\n",
    "        labels.append(emotion_label)\n",
    "        \n"
   ]
  },
  {
   "cell_type": "code",
   "execution_count": 17,
   "metadata": {},
   "outputs": [],
   "source": [
    "# Step 3: Training\n",
    "# Load LBPH Face Recognizer\n",
    "face_recognizer = cv2.face.LBPHFaceRecognizer_create()\n",
    "\n",
    "label_mapping = {label: index for index, label in enumerate(set(labels))}\n",
    "\n",
    "# Convert labels to integers \n",
    "labels_int = [label_mapping[label] for label in labels]\n",
    "\n",
    "# Train the face recognizer with labes from collected above\n",
    "face_recognizer.train(images, np.array(labels_int))\n",
    "\n",
    "face_recognizer.save('C:/Users/User/Downloads/img_recog/emotion_recognition_model.xml')"
   ]
  },
  {
   "cell_type": "code",
   "execution_count": 20,
   "metadata": {},
   "outputs": [],
   "source": [
    "# Step 4: Testing\n",
    "def test_emotion_recognition_model(test_image_path, face_recognizer):\n",
    "    face_recognizer = cv2.face.LBPHFaceRecognizer_create()\n",
    "    face_recognizer.read('C:/Users/User/Downloads/img_recog/emotion_recognition_model.xml')\n",
    "\n",
    "    # Pre-process the test image\n",
    "    pre_processed_test_image = pre_process_image(test_image_path)\n",
    "\n",
    "    # Return the confidence score (the lower the more likely it is a match) \n",
    "    label, confidence = face_recognizer.predict(pre_processed_test_image)\n",
    "    \n",
    "    # Map the interger classes to corresponding string classes \n",
    "    emotion_mapping = {0: 'happy', 1: 'sad', 2: 'angry'}\n",
    "    predicted_emotion = emotion_mapping[label]\n",
    "\n",
    "    return predicted_emotion"
   ]
  },
  {
   "cell_type": "code",
   "execution_count": 23,
   "metadata": {},
   "outputs": [
    {
     "name": "stdout",
     "output_type": "stream",
     "text": [
      "Predicted Label: angry\n",
      "Predicted Label: sad\n",
      "Predicted Label: happy\n"
     ]
    }
   ],
   "source": [
    "# Minor tests\n",
    "test_image_path = 'C:/Users/User/Downloads/img_recog/emotions_recog/valid/angry/angry1.jpg'\n",
    "emotion = test_emotion_recognition_model(test_image_path, face_recognizer)\n",
    "print(f\"Predicted Label: {emotion}\")\n",
    "test_image_path = 'C:/Users/User/Downloads/img_recog/emotions_recog/valid/sad/sad1.jpg'\n",
    "emotion = test_emotion_recognition_model(test_image_path, face_recognizer)\n",
    "print(f\"Predicted Label: {emotion}\")\n",
    "test_image_path = 'C:/Users/User/Downloads/img_recog/emotions_recog/valid/happy/happy1.jpg'\n",
    "emotion = test_emotion_recognition_model(test_image_path, face_recognizer)\n",
    "print(f\"Predicted Label: {emotion}\")"
   ]
  },
  {
   "cell_type": "code",
   "execution_count": 26,
   "metadata": {},
   "outputs": [],
   "source": [
    "def predict_emotions_in_folder(folder_path, face_recognizer):\n",
    "    predicted_emotions = {}\n",
    "    \n",
    "    # Iterate over files in the folder\n",
    "    for filename in os.listdir(folder_path):\n",
    "        image_path = os.path.join(folder_path, filename)\n",
    "        \n",
    "        # Predict emotion for the current image\n",
    "        predicted_emotion = test_emotion_recognition_model(image_path, face_recognizer)\n",
    "        \n",
    "        predicted_emotions[filename] = predicted_emotion\n",
    "    \n",
    "    return predicted_emotions\n"
   ]
  },
  {
   "cell_type": "code",
   "execution_count": 33,
   "metadata": {},
   "outputs": [
    {
     "name": "stdout",
     "output_type": "stream",
     "text": [
      "Emotion is angry\n",
      "Emotion is angry\n",
      "Emotion is angry\n",
      "Emotion is angry\n",
      "Emotion is angry\n",
      "Emotion is angry\n",
      "Emotion is angry\n",
      "Emotion is angry\n",
      "Emotion is angry\n",
      "Emotion is angry\n"
     ]
    }
   ],
   "source": [
    "# Predictions for angry validation folder containing only angry pictures\n",
    "folder_path = 'C:/Users/User/Downloads/img_recog/emotions_recog/valid/angry/'\n",
    "predicted_emotions = predict_emotions_in_folder(folder_path, face_recognizer)\n",
    "\n",
    "# Print predicted emotions for each image in the folder\n",
    "for filename, emotion in predicted_emotions.items():\n",
    "    print(f\"Emotion is {emotion}\")"
   ]
  },
  {
   "cell_type": "code",
   "execution_count": 39,
   "metadata": {},
   "outputs": [
    {
     "name": "stdout",
     "output_type": "stream",
     "text": [
      "Emotion is sad\n",
      "Emotion is sad\n",
      "Emotion is sad\n",
      "Emotion is sad\n",
      "Emotion is sad\n",
      "Emotion is sad\n",
      "Emotion is sad\n",
      "Emotion is sad\n",
      "Emotion is sad\n"
     ]
    }
   ],
   "source": [
    "# Predictions for sad validation folder containing only sad pictures\n",
    "folder_path = 'C:/Users/User/Downloads/img_recog/emotions_recog/valid/sad/'\n",
    "predicted_emotions = predict_emotions_in_folder(folder_path, face_recognizer)\n",
    "\n",
    "# Print predicted emotions for each image in the folder\n",
    "for filename, emotion in predicted_emotions.items():\n",
    "    print(f\"Emotion is {emotion}\")"
   ]
  },
  {
   "cell_type": "code",
   "execution_count": 38,
   "metadata": {},
   "outputs": [
    {
     "name": "stdout",
     "output_type": "stream",
     "text": [
      "Emotion is happy\n",
      "Emotion is happy\n",
      "Emotion is happy\n",
      "Emotion is happy\n",
      "Emotion is happy\n",
      "Emotion is sad\n",
      "Emotion is happy\n",
      "Emotion is happy\n",
      "Emotion is happy\n"
     ]
    }
   ],
   "source": [
    "# Predictions for happy validation folder containing only happy pictures\n",
    "folder_path = 'C:/Users/User/Downloads/img_recog/emotions_recog/valid/happy/'\n",
    "predicted_emotions = predict_emotions_in_folder(folder_path, face_recognizer)\n",
    "\n",
    "# Print predicted emotions for each image in the folder\n",
    "for filename, emotion in predicted_emotions.items():\n",
    "    print(f\"Emotion is {emotion}\")"
   ]
  },
  {
   "cell_type": "markdown",
   "metadata": {},
   "source": [
    "Given the restrictive conditions imposed by the scarcity of training data, the model predominantly predicts emotions accurately. For instances where it should recognize 'happy,' it consistently identifies the emotion as happy. However, there are misclassifications evident, notably when emotions 'sad' and 'angry' are expected, with some instances being incorrectly labeled as 'happy.' Despite these challenges, the model demonstrates promising performance within the constraints of its training data."
   ]
  },
  {
   "cell_type": "markdown",
   "metadata": {},
   "source": []
  }
 ],
 "metadata": {
  "kernelspec": {
   "display_name": "base",
   "language": "python",
   "name": "python3"
  },
  "language_info": {
   "codemirror_mode": {
    "name": "ipython",
    "version": 3
   },
   "file_extension": ".py",
   "mimetype": "text/x-python",
   "name": "python",
   "nbconvert_exporter": "python",
   "pygments_lexer": "ipython3",
   "version": "3.11.7"
  }
 },
 "nbformat": 4,
 "nbformat_minor": 2
}
